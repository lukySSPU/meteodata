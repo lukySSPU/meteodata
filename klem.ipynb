{
 "cells": [
  {
   "cell_type": "code",
   "execution_count": 2,
   "id": "a35180b8-85c5-4702-b961-912b81185a7a",
   "metadata": {},
   "outputs": [],
   "source": [
    "from temperature import TemperatureAnalytics\n",
    "import pandas as pd\n",
    "\n",
    "data_path = 'data/klementinum.xlsx'\n",
    "data_sheet_name = 'data'\n",
    "temperature_data = pd.read_excel(data_path, sheet_name=data_sheet_name)\n",
    "temperature_analytics = TemperatureAnalytics(temperature_data)"
   ]
  },
  {
   "cell_type": "code",
   "execution_count": 11,
   "id": "da2d1119-c934-490c-a318-de7779b20f9f",
   "metadata": {},
   "outputs": [
    {
     "ename": "AttributeError",
     "evalue": "'TemperatureAnalytics' object has no attribute 'get_available_years'",
     "output_type": "error",
     "traceback": [
      "\u001b[1;31m---------------------------------------------------------------------------\u001b[0m",
      "\u001b[1;31mAttributeError\u001b[0m                            Traceback (most recent call last)",
      "Cell \u001b[1;32mIn[11], line 1\u001b[0m\n\u001b[1;32m----> 1\u001b[0m available_years \u001b[38;5;241m=\u001b[39m \u001b[43mtemperature_analytics\u001b[49m\u001b[38;5;241;43m.\u001b[39;49m\u001b[43mget_available_years\u001b[49m()\n\u001b[0;32m      3\u001b[0m \u001b[38;5;28;01mwhile\u001b[39;00m \u001b[38;5;28;01mTrue\u001b[39;00m:\n\u001b[0;32m      4\u001b[0m     user_input_year \u001b[38;5;241m=\u001b[39m \u001b[38;5;28mint\u001b[39m(\u001b[38;5;28minput\u001b[39m(\u001b[38;5;124m\"\u001b[39m\u001b[38;5;124mZadejte rok: \u001b[39m\u001b[38;5;124m\"\u001b[39m))\n",
      "\u001b[1;31mAttributeError\u001b[0m: 'TemperatureAnalytics' object has no attribute 'get_available_years'"
     ]
    }
   ],
   "source": [
    "available_years = temperature_analytics.get_available_years()\n",
    "\n",
    "while True:\n",
    "    user_input_year = int(input(\"Zadejte rok: \"))\n",
    "    if user_input_year not in available_years:\n",
    "        break\n",
    "\n",
    "temperature_data = user_input_year\n",
    "\n",
    "average_temp = temperature_analytics.get_average_temperature(temperature_data)\n",
    "max_temp, date_of_max_temp = temperature_analytics.get_max_temperature(temperature_data)\n",
    "min_temp, date_of_min_temp = temperature_analytics.get_min_temperature(temperature_data)\n",
    "\n",
    "average_temp_formatted = f\"{average_temp:.2f}\"\n",
    "max_temp_formatted = f\"{max_temp:.2f}\"\n",
    "min_temp_formatted = f\"{min_temp:.2f}\"\n",
    "\n",
    "print(f\"Průměrná teplota v roce {user_input_year}: {average_temp_formatted}°C\")\n",
    "print(f\"Maximální teplota v roce {user_input_year}: {max_temp_formatted}°C, datum: {date_of_max_temp['den']}.{date_of_max_temp['měsíc']}.{date_of_max_temp['rok']}\")\n",
    "print(f\"Minimální teplota v roce {user_input_year}: {min_temp_formatted}°C, datum: {date_of_min_temp['den']}.{date_of_min_temp['měsíc']}.{date_of_min_temp['rok']}\")"
   ]
  }
 ],
 "metadata": {
  "kernelspec": {
   "display_name": "Python 3 (ipykernel)",
   "language": "python",
   "name": "python3"
  },
  "language_info": {
   "codemirror_mode": {
    "name": "ipython",
    "version": 3
   },
   "file_extension": ".py",
   "mimetype": "text/x-python",
   "name": "python",
   "nbconvert_exporter": "python",
   "pygments_lexer": "ipython3",
   "version": "3.12.2"
  }
 },
 "nbformat": 4,
 "nbformat_minor": 5
}
