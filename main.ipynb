{
 "cells": [
  {
   "cell_type": "markdown",
   "id": "8a5d6d30",
   "metadata": {},
   "source": [
    "# Popis kódu pro analýzu teplotních dat\n",
    "\n",
    "Tento kód slouží k importu potřebných knihoven a inicializaci objektu pro analýzu teplotních dat. Zde je podrobný popis každé části kódu:\n",
    "\n",
    "## Import knihoven\n",
    "\n",
    "- **TemperatureAnalytics:** Tato knihovna obsahuje třídu pro analýzu teplotních dat.\n",
    "- **pandas (pd):** Knihovna pro manipulaci s daty, v tomto případě používáme pro načtení dat z Excel souboru.\n",
    "- **month_names:** Obsahuje seznam názvů měsíců, který bude použit při formátování výstupů programu.\n",
    "\n",
    "## Načtení teplotních dat\n",
    "\n",
    "- **data_path:** Cesta k Excel souboru obsahujícímu teplotní data.\n",
    "- **data_sheet_name:** Název listu v Excel souboru, ze kterého budou data načtena.\n",
    "- **pd.read_excel:** Metoda z knihovny pandas pro načtení dat z Excel souboru.\n",
    "- **TemperatureAnalytics:** Inicializace objektu třídy `TemperatureAnalytics` s načtenými teplotními daty pro následnou analýzu."
   ]
  },
  {
   "cell_type": "code",
   "execution_count": null,
   "id": "f9483fba",
   "metadata": {},
   "outputs": [],
   "source": [
    "from temperature import TemperatureAnalytics\n",
    "import pandas as pd\n",
    "from month_names import month_names\n",
    "\n",
    "data_path = 'data/klementinum.xlsx'\n",
    "data_sheet_name = 'data'\n",
    "temperature_data = pd.read_excel(data_path, sheet_name=data_sheet_name)\n",
    "temperature_analytics = TemperatureAnalytics(temperature_data)"
   ]
  },
  {
   "cell_type": "markdown",
   "id": "b09cac1f",
   "metadata": {},
   "source": [
    "# Začátek nekonečné smyčky\n",
    "- Smyčka se stará o to, že se aplikace nevypne po dokončení požadavků, které uživatel zadá."
   ]
  },
  {
   "cell_type": "code",
   "execution_count": null,
   "id": "bdf1a55e",
   "metadata": {},
   "outputs": [],
   "source": [
    "while True:"
   ]
  },
  {
   "cell_type": "markdown",
   "id": "b3e4788f",
   "metadata": {},
   "source": [
    "# Popis kódu pro volbu možností uživatele\n",
    "\n",
    "Tento kód umožňuje uživateli vybrat různé možnosti analýzy teplotních dat. Zde je podrobný popis každé části kódu:"
   ]
  },
  {
   "cell_type": "code",
   "execution_count": null,
   "id": "8a4e1926",
   "metadata": {},
   "outputs": [],
   "source": [
    "print(\"Vyberte možnost:\")\n",
    "print(\"1. Průměrné, max a min teploty v roce\")\n",
    "print(\"2. Průměrné, max a min teploty všech měsíců v roce\")\n",
    "print(\"3. Průměrné, max a min teploty v zadaném měsíci v roce\")\n",
    "print(\"4. Analyzovat teplotní trendy\")\n",
    "print(\"5. Analyzovat sezónní změny\")\n",
    "print(\"6. Detekovat teplotní anomálie\")\n",
    "print(\"7. Vykreslit průměrné roční teploty\")\n",
    "print(\"8. Vykreslit denní teplotní trendy\")\n",
    "print(\"9. Vykreslit minimální a maximální teploty pro konkrétní den\")\n",
    "print(\"0. Vypnout program\")\n",
    "option = int(input(\"Zadejte číslo možnosti: \"))"
   ]
  },
  {
   "cell_type": "markdown",
   "id": "75767c34",
   "metadata": {},
   "source": [
    "- Tento úsek kódu vytváří uživatelské rozhraní pro výběr různých možností analýzy teplotních dat.\n",
    "- Uživateli jsou prezentovány různé možnosti (1 až 9) a možnost vypnout program (0).\n",
    "- Uživatel zadává číslo odpovídající požadované možnosti pomocí klávesnice (`input` funkce).\n",
    "- Zadaná hodnota je uložena do proměnné `option` jako celé číslo (`int(input(...))`)."
   ]
  },
  {
   "cell_type": "markdown",
   "id": "69c4dfb0",
   "metadata": {},
   "source": [
    "# Popis kódu pro analýzu teplot v zadaném roce\n",
    "\n",
    "Tento kód provádí analýzu teplot v zadaném roce a výpis průměrné, maximální a minimální teploty spolu s odpovídajícími daty. Zde je podrobný popis každé části kódu:"
   ]
  },
  {
   "cell_type": "code",
   "execution_count": null,
   "id": "6f027d2a",
   "metadata": {},
   "outputs": [],
   "source": [
    "# Získání hodnoty roku od uživatele\n",
    "user_input_year = temperature_analytics.input_year_value()\n",
    "\n",
    "# Získání a formátování statistik pro zadaný rok\n",
    "average_temp = temperature_analytics.get_average_temperature(user_input_year)\n",
    "max_temp, date_of_max_temp = temperature_analytics.get_max_temperature(user_input_year)\n",
    "min_temp, date_of_min_temp = temperature_analytics.get_min_temperature(user_input_year)\n",
    "\n",
    "# Formátování teplot do řetězců s dvěma desetinnými místy\n",
    "average_temp_formatted = f\"{average_temp:.2f}\"\n",
    "max_temp_formatted = f\"{max_temp:.2f}\"\n",
    "min_temp_formatted = f\"{min_temp:.2f}\"\n",
    "\n",
    "# Výpis statistik\n",
    "print(f\"Průměrná teplota v roce {user_input_year}: {average_temp_formatted}°C\")\n",
    "print(f\"Maximální teplota v roce {user_input_year}: {max_temp_formatted}°C, datum: {date_of_max_temp['den']}.{date_of_max_temp['měsíc']}.{date_of_max_temp['rok']}\")\n",
    "print(f\"Minimální teplota v roce {user_input_year}: {min_temp_formatted}°C, datum: {date_of_min_temp['den']}.{date_of_min_temp['měsíc']}.{date_of_min_temp['rok']}\")"
   ]
  },
  {
   "cell_type": "markdown",
   "id": "396301bd",
   "metadata": {},
   "source": [
    "- Uživatel je vyzván k zadání hodnoty roku pomocí metody `input_year_value` z objektu `temperature_analytics`.\n",
    "- Následně jsou získány průměrná, maximální a minimální teplota pro zadaný rok pomocí metod `get_average_temperature`, `get_max_temperature` a `get_min_temperature`.\n",
    "- Teplotní hodnoty jsou formátovány do řetězců s dvěma desetinnými místy.\n",
    "- Statistiky jsou vypsány na standardní výstup pomocí funkce `print` a formátovaných řetězců (`f-strings`)."
   ]
  },
  {
   "cell_type": "markdown",
   "id": "7fde6edd",
   "metadata": {},
   "source": [
    "# Popis kódu pro analýzu teplot všech měsíců v zadaném roce\n",
    "\n",
    "Tento kód provádí analýzu teplot pro všechny měsíce v zadaném roce a vypisuje statistiky včetně průměrné, maximální a minimální teploty spolu s odpovídajícími daty. Zde je podrobný popis každé části kódu:"
   ]
  },
  {
   "cell_type": "code",
   "execution_count": null,
   "id": "61c08810",
   "metadata": {},
   "outputs": [],
   "source": [
    "# Získání hodnoty roku od uživatele\n",
    "user_input_year = temperature_analytics.input_year_value()\n",
    "\n",
    "# Získání statistik pro všechny měsíce v zadaném roce\n",
    "all_monthly_statistics = temperature_analytics.get_all_monthly_statistics(user_input_year)\n",
    "\n",
    "# Výpis statistik pro každý měsíc\n",
    "for month_stat in all_monthly_statistics:\n",
    "    print(f\"\\nStatistiky pro {month_names[month_stat['měsíc']]} v roce {user_input_year}:\")\n",
    "    print(f\"Průměrná teplota: {month_stat['průměrná teplota']:.2f}°C\")\n",
    "    print(f\"Maximální teplota: {month_stat['maximální teplota']:.2f}°C, datum: {month_stat['datum max teploty']}\")\n",
    "    print(f\"Minimální teplota: {month_stat['minimální teplota']:.2f}°C, datum: {month_stat['datum min teploty']}\")"
   ]
  },
  {
   "cell_type": "markdown",
   "id": "2f2a644e",
   "metadata": {},
   "source": [
    "- Uživatel je vyzván k zadání hodnoty roku pomocí metody `input_year_value` z objektu `temperature_analytics`.\n",
    "- Metoda `get_all_monthly_statistics` získává statistiky pro všechny měsíce v zadaném roce.\n",
    "- V cyklu `for` jsou pro každý měsíc vypsány statistiky, včetně názvu měsíce, průměrné, maximální a minimální teploty, a odpovídajících dat."
   ]
  },
  {
   "cell_type": "markdown",
   "id": "424b909d",
   "metadata": {},
   "source": [
    "# Popis kódu pro analýzu teplot v zadaném měsíci a roce\n",
    "\n",
    "Tento kód provádí analýzu teplot pro zadaný měsíc a rok a vypisuje statistiky včetně průměrné, maximální a minimální teploty spolu s odpovídajícími daty. Zde je podrobný popis každé části kódu:"
   ]
  },
  {
   "cell_type": "code",
   "execution_count": null,
   "id": "8c8aae86",
   "metadata": {},
   "outputs": [],
   "source": [
    "# Získání hodnoty roku od uživatele\n",
    "user_input_year = temperature_analytics.input_year_value()\n",
    "\n",
    "# Získání hodnoty měsíce od uživatele\n",
    "user_input_month = temperature_analytics.input_month_value()\n",
    "\n",
    "# Získání statistik pro všechny měsíce v zadaném roce\n",
    "monthly_statistics = temperature_analytics.get_all_monthly_statistics(user_input_year)\n",
    "\n",
    "# Výpis statistik pro zadaný měsíc\n",
    "for month_stat in monthly_statistics:\n",
    "    if month_stat['měsíc'] == user_input_month:\n",
    "        print(f\"\\nStatistiky pro {month_names[month_stat['měsíc']]} v roce {user_input_year}:\")\n",
    "        print(f\"Průměrná teplota: {month_stat['průměrná teplota']:.2f}°C\")\n",
    "        print(f\"Maximální teplota: {month_stat['maximální teplota']:.2f}°C, datum: {month_stat['datum max teploty']}\")\n",
    "        print(f\"Minimální teplota: {month_stat['minimální teplota']:.2f}°C, datum: {month_stat['datum min teploty']}\")\n",
    "        break\n",
    "else:\n",
    "    print(f\"Pro zadaný měsíc {month_names[user_input_month]} v roce {user_input_year} nejsou k dispozici žádné statistiky.\")"
   ]
  },
  {
   "cell_type": "markdown",
   "id": "bc283097",
   "metadata": {},
   "source": [
    "- Uživatel je vyzván k zadání hodnoty roku a měsíce pomocí metod `input_year_value` a `input_month_value` z objektu `temperature_analytics`.\n",
    "- Metoda `get_all_monthly_statistics` získává statistiky pro všechny měsíce v zadaném roce.\n",
    "- V cyklu `for` jsou porovnávány hodnoty měsíce a vypsány statistiky, pokud jsou k dispozici. V opačném případě se vypíše oznámení o nedostupných statistikách."
   ]
  },
  {
   "cell_type": "markdown",
   "id": "a5097510",
   "metadata": {},
   "source": [
    "# Popis kódu pro výběr období a vykreslení průměrných ročních teplot\n",
    "\n",
    "Tento kód umožňuje uživateli zadat začátek a konec období a následně vykresluje průměrné roční teploty pro toto období. Zde je podrobný popis každé části kódu:"
   ]
  },
  {
   "cell_type": "code",
   "execution_count": null,
   "id": "90b88439",
   "metadata": {},
   "outputs": [],
   "source": [
    "# Výběr období od uživatele\n",
    "while True:\n",
    "    # Získání hodnoty začátku období od uživatele\n",
    "    start_year = temperature_analytics.input_year_value()\n",
    "\n",
    "    # Získání hodnoty konce období od uživatele\n",
    "    end_year = temperature_analytics.input_year_value()\n",
    "\n",
    "    # Kontrola, zda je začátek období menší než konec\n",
    "    if start_year < end_year:\n",
    "        break\n",
    "\n",
    "# Vykreslení průměrných ročních teplot pro zadané období\n",
    "temperature_analytics.plot_annual_temperature_averages(start_year, end_year)"
   ]
  },
  {
   "cell_type": "markdown",
   "id": "18683052",
   "metadata": {},
   "source": [
    "- Uživatel je vyzván k zadání hodnoty začátku a konce období pomocí metod `input_year_value` z objektu `temperature_analytics`.\n",
    "- Vstupy jsou uloženy do proměnných `start_year` a `end_year`.\n",
    "- Smyčka `while` kontroluje, zda je začátek období menší než konec. Pokud ne, uživatel je vyzván k opětovnému zadání hodnoty.\n",
    "- Po správném zadání období je volána metoda `plot_annual_temperature_averages`, která vykresluje průměrné roční teploty pro zadané období."
   ]
  },
  {
   "cell_type": "code",
   "execution_count": null,
   "id": "3fb6ae8f",
   "metadata": {},
   "outputs": [],
   "source": [
    "temperature_analytics.plot_annual_temperature_averages(1775,2022)"
   ]
  },
  {
   "cell_type": "markdown",
   "id": "b4ec124a",
   "metadata": {},
   "source": []
  },
  {
   "cell_type": "code",
   "execution_count": null,
   "id": "903b016a",
   "metadata": {},
   "outputs": [],
   "source": [
    "user_input_year = temperature_analytics.input_year_value()\n",
    "user_input_month = temperature_analytics.input_month_value()\n",
    "daily_statistics = temperature_analytics.get_all_daily_statistic\n",
    "temperature_analytics.plot_daily_temperatures(daily_statistics)"
   ]
  },
  {
   "cell_type": "markdown",
   "id": "9209821d",
   "metadata": {},
   "source": []
  },
  {
   "cell_type": "code",
   "execution_count": null,
   "id": "31e796ed",
   "metadata": {},
   "outputs": [],
   "source": [
    "user_input_year = temperature_analytics.input_year_value()\n",
    "user_input_month = temperature_analytics.input_month_value()\n",
    "user_input_day = temperature_analytics.input_day_value()\n",
    "day_statistics = temperature_analytics.get_all_daily_statistics(user_input_year,\n",
    "temperature_analytics.plot_day_temperatures(day_statistics, user_input_day)"
   ]
  },
  {
   "cell_type": "markdown",
   "id": "713b2e30",
   "metadata": {},
   "source": []
  },
  {
   "cell_type": "code",
   "execution_count": null,
   "id": "a4933244",
   "metadata": {},
   "outputs": [],
   "source": [
    "if option == 0:\n",
    "    print(\"Ukončuji program.\")\n",
    "    break"
   ]
  },
  {
   "cell_type": "markdown",
   "id": "c3b8457c",
   "metadata": {},
   "source": []
  },
  {
   "cell_type": "code",
   "execution_count": null,
   "id": "58fc3bda",
   "metadata": {},
   "outputs": [],
   "source": [
    "else:\n",
    "    print(\"Neplatná volba. Ukončuji program.\")"
   ]
  },
  {
   "cell_type": "markdown",
   "id": "33f3b34a",
   "metadata": {},
   "source": []
  }
 ],
 "metadata": {
  "kernelspec": {
   "display_name": "Python 3 (ipykernel)",
   "language": "python",
   "name": "python3"
  },
  "language_info": {
   "codemirror_mode": {
    "name": "ipython",
    "version": 3
   },
   "file_extension": ".py",
   "mimetype": "text/x-python",
   "name": "python",
   "nbconvert_exporter": "python",
   "pygments_lexer": "ipython3",
   "version": "3.12.2"
  }
 },
 "nbformat": 4,
 "nbformat_minor": 5
}
