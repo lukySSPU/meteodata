{
 "cells": [
  {
   "cell_type": "code",
   "execution_count": 10,
   "id": "a35180b8-85c5-4702-b961-912b81185a7a",
   "metadata": {},
   "outputs": [],
   "source": [
    "from temperature import TemperatureAnalytics\n",
    "import pandas as pd\n",
    "\n",
    "data_path = 'data/klementinum.xlsx'\n",
    "data_sheet_name = 'data'\n",
    "temperature_data = pd.read_excel(data_path, sheet_name=data_sheet_name)\n",
    "temperature_analytics = TemperatureAnalytics(temperature_data)"
   ]
  },
  {
   "cell_type": "code",
   "execution_count": 11,
   "id": "da2d1119-c934-490c-a318-de7779b20f9f",
   "metadata": {},
   "outputs": [
    {
     "name": "stdout",
     "output_type": "stream",
     "text": [
      "Průměrná teplota v roce 2022: 12.406575342465752°C\n",
      "Maximální teplota v roce 2022: 36.8°C, datum: 19.6.2022\n",
      "Minimální teplota v roce 2022: -7.2°C, datum: 14.12.2022\n"
     ]
    }
   ],
   "source": [
    "average_temp_2022 = temperature_analytics.get_average_temperature(2022)\n",
    "max_temp_2022, date_of_max_temp_2022 = temperature_analytics.get_max_temperature(2022)\n",
    "min_temp_2022, date_of_min_temp_2022 = temperature_analytics.get_min_temperature(2022)\n",
    "temperature_analytics.plot_annual_temperature_averages(1775,2022)\n",
    "\n",
    "print(f\"Průměrná teplota v roce 2022: {average_temp_2022}°C\")\n",
    "print(f\"Maximální teplota v roce 2022: {max_temp_2022}°C, datum: {date_of_max_temp_2022['den']}.{date_of_max_temp_2022['měsíc']}.{date_of_max_temp_2022['rok']}\")\n",
    "print(f\"Minimální teplota v roce 2022: {min_temp_2022}°C, datum: {date_of_min_temp_2022['den']}.{date_of_min_temp_2022['měsíc']}.{date_of_min_temp_2022['rok']}\")"
   ]
  },
  {
   "cell_type": "code",
   "execution_count": null,
   "id": "ed952019-05c8-4bff-b8e2-bf9699d6210e",
   "metadata": {},
   "outputs": [],
   "source": []
  }
 ],
 "metadata": {
  "kernelspec": {
   "display_name": "Python 3 (ipykernel)",
   "language": "python",
   "name": "python3"
  },
  "language_info": {
   "codemirror_mode": {
    "name": "ipython",
    "version": 3
   },
   "file_extension": ".py",
   "mimetype": "text/x-python",
   "name": "python",
   "nbconvert_exporter": "python",
   "pygments_lexer": "ipython3",
   "version": "3.11.3"
  }
 },
 "nbformat": 4,
 "nbformat_minor": 5
}
